{
 "cells": [
  {
   "cell_type": "markdown",
   "metadata": {},
   "source": [
    "## ANALISI PCA CON PREPROCESSING E SVD"
   ]
  },
  {
   "cell_type": "code",
   "execution_count": 1,
   "metadata": {},
   "outputs": [],
   "source": [
    "import pandas as pd\n",
    "import numpy as np\n",
    "import matplotlib.pyplot as plt\n",
    "from sklearn import datasets\n",
    "import plotly.express as px\n",
    "import seaborn as sns"
   ]
  },
  {
   "cell_type": "code",
   "execution_count": 15,
   "metadata": {},
   "outputs": [],
   "source": [
    "df=pd.read_excel('olive_oil.xlsx')\n",
    "#sostituisco il nome della prima colonna con \"Class\"\n",
    "df.rename(columns={'Unnamed: 0':'Class'}, inplace=True )\n",
    "#rimuovo gli spazi dai nomi \n",
    "df.rename(columns=lambda x: x.strip(), inplace=True)\n",
    "\n",
    "labels = list(df['Class'].unique())\n",
    "\n",
    "class_row = df['Class']"
   ]
  },
  {
   "cell_type": "code",
   "execution_count": 3,
   "metadata": {},
   "outputs": [
    {
     "name": "stdout",
     "output_type": "stream",
     "text": [
      "382, 7\n"
     ]
    },
    {
     "data": {
      "text/html": [
       "<div>\n",
       "<style scoped>\n",
       "    .dataframe tbody tr th:only-of-type {\n",
       "        vertical-align: middle;\n",
       "    }\n",
       "\n",
       "    .dataframe tbody tr th {\n",
       "        vertical-align: top;\n",
       "    }\n",
       "\n",
       "    .dataframe thead th {\n",
       "        text-align: right;\n",
       "    }\n",
       "</style>\n",
       "<table border=\"1\" class=\"dataframe\">\n",
       "  <thead>\n",
       "    <tr style=\"text-align: right;\">\n",
       "      <th></th>\n",
       "      <th>palmitico</th>\n",
       "      <th>palmitoleico</th>\n",
       "      <th>stearico</th>\n",
       "      <th>oleico</th>\n",
       "      <th>linoleico</th>\n",
       "      <th>eicosanoico</th>\n",
       "      <th>linolenico</th>\n",
       "    </tr>\n",
       "  </thead>\n",
       "  <tbody>\n",
       "    <tr>\n",
       "      <th>0</th>\n",
       "      <td>10.750000</td>\n",
       "      <td>0.75</td>\n",
       "      <td>2.26</td>\n",
       "      <td>78.230011</td>\n",
       "      <td>6.72</td>\n",
       "      <td>0.36</td>\n",
       "      <td>0.60</td>\n",
       "    </tr>\n",
       "    <tr>\n",
       "      <th>1</th>\n",
       "      <td>10.880000</td>\n",
       "      <td>0.73</td>\n",
       "      <td>2.24</td>\n",
       "      <td>77.089996</td>\n",
       "      <td>7.81</td>\n",
       "      <td>0.31</td>\n",
       "      <td>0.61</td>\n",
       "    </tr>\n",
       "    <tr>\n",
       "      <th>2</th>\n",
       "      <td>9.109999</td>\n",
       "      <td>0.54</td>\n",
       "      <td>2.46</td>\n",
       "      <td>81.129997</td>\n",
       "      <td>5.49</td>\n",
       "      <td>0.31</td>\n",
       "      <td>0.63</td>\n",
       "    </tr>\n",
       "    <tr>\n",
       "      <th>3</th>\n",
       "      <td>9.660000</td>\n",
       "      <td>0.57</td>\n",
       "      <td>2.40</td>\n",
       "      <td>79.519997</td>\n",
       "      <td>6.19</td>\n",
       "      <td>0.50</td>\n",
       "      <td>0.78</td>\n",
       "    </tr>\n",
       "    <tr>\n",
       "      <th>4</th>\n",
       "      <td>10.510000</td>\n",
       "      <td>0.67</td>\n",
       "      <td>2.59</td>\n",
       "      <td>77.709999</td>\n",
       "      <td>6.72</td>\n",
       "      <td>0.50</td>\n",
       "      <td>0.80</td>\n",
       "    </tr>\n",
       "  </tbody>\n",
       "</table>\n",
       "</div>"
      ],
      "text/plain": [
       "   palmitico  palmitoleico  stearico     oleico  linoleico  eicosanoico  \\\n",
       "0  10.750000          0.75      2.26  78.230011       6.72         0.36   \n",
       "1  10.880000          0.73      2.24  77.089996       7.81         0.31   \n",
       "2   9.109999          0.54      2.46  81.129997       5.49         0.31   \n",
       "3   9.660000          0.57      2.40  79.519997       6.19         0.50   \n",
       "4  10.510000          0.67      2.59  77.709999       6.72         0.50   \n",
       "\n",
       "   linolenico  \n",
       "0        0.60  \n",
       "1        0.61  \n",
       "2        0.63  \n",
       "3        0.78  \n",
       "4        0.80  "
      ]
     },
     "execution_count": 3,
     "metadata": {},
     "output_type": "execute_result"
    }
   ],
   "source": [
    "#Rimuovo la prima riga contentente solo Stringhe, creando così la matrice dei dati X\n",
    "X = df.drop('Class', axis=1)\n",
    "n,m = X.shape\n",
    "print(f\"{n}, {m}\")\n",
    "X.head()"
   ]
  },
  {
   "cell_type": "markdown",
   "metadata": {},
   "source": [
    "### Esegui **una** delle seguenti 3 celle per effettuare il preprocessing"
   ]
  },
  {
   "cell_type": "markdown",
   "metadata": {},
   "source": [
    "## Preprocessing - None"
   ]
  },
  {
   "cell_type": "code",
   "execution_count": 4,
   "metadata": {},
   "outputs": [],
   "source": [
    "X_after = X"
   ]
  },
  {
   "cell_type": "markdown",
   "metadata": {},
   "source": [
    "## Preprocessing - Autoscaling"
   ]
  },
  {
   "cell_type": "code",
   "execution_count": 5,
   "metadata": {},
   "outputs": [],
   "source": [
    "X_after = (X - X.mean())/X.std()"
   ]
  },
  {
   "cell_type": "markdown",
   "metadata": {},
   "source": [
    "## Preprocessing - Mean centering"
   ]
  },
  {
   "cell_type": "code",
   "execution_count": 6,
   "metadata": {},
   "outputs": [],
   "source": [
    "X_after = X - X.mean()"
   ]
  },
  {
   "cell_type": "code",
   "execution_count": 7,
   "metadata": {},
   "outputs": [
    {
     "data": {
      "text/html": [
       "<div>\n",
       "<style scoped>\n",
       "    .dataframe tbody tr th:only-of-type {\n",
       "        vertical-align: middle;\n",
       "    }\n",
       "\n",
       "    .dataframe tbody tr th {\n",
       "        vertical-align: top;\n",
       "    }\n",
       "\n",
       "    .dataframe thead th {\n",
       "        text-align: right;\n",
       "    }\n",
       "</style>\n",
       "<table border=\"1\" class=\"dataframe\">\n",
       "  <thead>\n",
       "    <tr style=\"text-align: right;\">\n",
       "      <th></th>\n",
       "      <th>palmitico</th>\n",
       "      <th>palmitoleico</th>\n",
       "      <th>stearico</th>\n",
       "      <th>oleico</th>\n",
       "      <th>linoleico</th>\n",
       "      <th>eicosanoico</th>\n",
       "      <th>linolenico</th>\n",
       "    </tr>\n",
       "  </thead>\n",
       "  <tbody>\n",
       "    <tr>\n",
       "      <th>0</th>\n",
       "      <td>-1.776126</td>\n",
       "      <td>-0.613141</td>\n",
       "      <td>0.05623</td>\n",
       "      <td>5.037079</td>\n",
       "      <td>-2.90534</td>\n",
       "      <td>0.058848</td>\n",
       "      <td>0.082251</td>\n",
       "    </tr>\n",
       "    <tr>\n",
       "      <th>1</th>\n",
       "      <td>-1.646126</td>\n",
       "      <td>-0.633141</td>\n",
       "      <td>0.03623</td>\n",
       "      <td>3.897064</td>\n",
       "      <td>-1.81534</td>\n",
       "      <td>0.008848</td>\n",
       "      <td>0.092251</td>\n",
       "    </tr>\n",
       "    <tr>\n",
       "      <th>2</th>\n",
       "      <td>-3.416127</td>\n",
       "      <td>-0.823141</td>\n",
       "      <td>0.25623</td>\n",
       "      <td>7.937065</td>\n",
       "      <td>-4.13534</td>\n",
       "      <td>0.008848</td>\n",
       "      <td>0.112251</td>\n",
       "    </tr>\n",
       "    <tr>\n",
       "      <th>3</th>\n",
       "      <td>-2.866126</td>\n",
       "      <td>-0.793141</td>\n",
       "      <td>0.19623</td>\n",
       "      <td>6.327065</td>\n",
       "      <td>-3.43534</td>\n",
       "      <td>0.198848</td>\n",
       "      <td>0.262251</td>\n",
       "    </tr>\n",
       "    <tr>\n",
       "      <th>4</th>\n",
       "      <td>-2.016126</td>\n",
       "      <td>-0.693141</td>\n",
       "      <td>0.38623</td>\n",
       "      <td>4.517067</td>\n",
       "      <td>-2.90534</td>\n",
       "      <td>0.198848</td>\n",
       "      <td>0.282251</td>\n",
       "    </tr>\n",
       "  </tbody>\n",
       "</table>\n",
       "</div>"
      ],
      "text/plain": [
       "   palmitico  palmitoleico  stearico    oleico  linoleico  eicosanoico  \\\n",
       "0  -1.776126     -0.613141   0.05623  5.037079   -2.90534     0.058848   \n",
       "1  -1.646126     -0.633141   0.03623  3.897064   -1.81534     0.008848   \n",
       "2  -3.416127     -0.823141   0.25623  7.937065   -4.13534     0.008848   \n",
       "3  -2.866126     -0.793141   0.19623  6.327065   -3.43534     0.198848   \n",
       "4  -2.016126     -0.693141   0.38623  4.517067   -2.90534     0.198848   \n",
       "\n",
       "   linolenico  \n",
       "0    0.082251  \n",
       "1    0.092251  \n",
       "2    0.112251  \n",
       "3    0.262251  \n",
       "4    0.282251  "
      ]
     },
     "execution_count": 7,
     "metadata": {},
     "output_type": "execute_result"
    }
   ],
   "source": [
    "X_after.head()"
   ]
  },
  {
   "cell_type": "code",
   "execution_count": null,
   "metadata": {},
   "outputs": [],
   "source": []
  },
  {
   "cell_type": "markdown",
   "metadata": {},
   "source": [
    "## SVD"
   ]
  },
  {
   "cell_type": "code",
   "execution_count": 8,
   "metadata": {},
   "outputs": [
    {
     "name": "stdout",
     "output_type": "stream",
     "text": [
      "X (382, 7) = U (382, 7) S (7, 7) V (7, 7)\n"
     ]
    }
   ],
   "source": [
    "U,s,Vt = np.linalg.svd(X_after,full_matrices=False,compute_uv=True)\n",
    "V = Vt.T\n",
    "S = np.diag(s)\n",
    "print(f\"X {X.shape} = U {U.shape} S {S.shape} V {V.shape}\")"
   ]
  },
  {
   "cell_type": "code",
   "execution_count": 9,
   "metadata": {},
   "outputs": [],
   "source": [
    "T = np.dot(U,S) #Scores \n",
    "#T = U*S\n",
    "P = V   #Loadings\n",
    "\n",
    "Data = np.dot(T,P.T)\n",
    "E = np.subtract(X,Data)\n",
    "Eigen_pca = np.power(S,2)/(n-1)"
   ]
  },
  {
   "cell_type": "code",
   "execution_count": 10,
   "metadata": {},
   "outputs": [
    {
     "data": {
      "text/plain": [
       "[Text(0.5, 0, 'Componenti principali'), Text(0, 0.5, 'Varianza Spiegata')]"
      ]
     },
     "execution_count": 10,
     "metadata": {},
     "output_type": "execute_result"
    },
    {
     "data": {
      "image/png": "[encoded data removed]",
      "text/plain": [
       "<Figure size 432x288 with 1 Axes>"
      ]
     },
     "metadata": {
      "needs_background": "light"
     },
     "output_type": "display_data"
    }
   ],
   "source": [
    "ax = plt.subplot()\n",
    "var_explained = np.round(s**2/np.sum(s**2), decimals=3)\n",
    "sns.barplot(x=list(range(1,len(var_explained)+1)),\n",
    "            y=var_explained, color=\"limegreen\")\n",
    "ax.set(xlabel=\"Componenti principali\", ylabel=\"Varianza Spiegata\")"
   ]
  },
  {
   "cell_type": "markdown",
   "metadata": {},
   "source": [
    "Calcolo delle componenti principali"
   ]
  },
  {
   "cell_type": "code",
   "execution_count": 11,
   "metadata": {},
   "outputs": [
    {
     "data": {
      "text/plain": [
       "(382, 3)"
      ]
     },
     "execution_count": 11,
     "metadata": {},
     "output_type": "execute_result"
    }
   ],
   "source": [
    "k = 3 #numero di componenti principali da calcolare\n",
    "US_k = U[:, 0:k].dot(S[0:k, 0:k])\n",
    "US_k.shape"
   ]
  },
  {
   "cell_type": "code",
   "execution_count": 12,
   "metadata": {},
   "outputs": [
    {
     "data": {
      "text/plain": [
       "<AxesSubplot:xlabel='PC1', ylabel='PC2'>"
      ]
     },
     "execution_count": 12,
     "metadata": {},
     "output_type": "execute_result"
    },
    {
     "data": {
      "image/png": "[encoded data removed]",
      "text/plain": [
       "<Figure size 432x288 with 1 Axes>"
      ]
     },
     "metadata": {
      "needs_background": "light"
     },
     "output_type": "display_data"
    }
   ],
   "source": [
    "#PC1  e PC2\n",
    "ax = plt.subplot()\n",
    "ax.axhline(y=0, color='k', linewidth=1)\n",
    "ax.axvline(x=0, color='k', linewidth=1)\n",
    "ax.set(xlabel='PC1', ylabel='PC2')\n",
    "sns.scatterplot(x=T[:,0], y=T[:,1])\n"
   ]
  },
  {
   "cell_type": "code",
   "execution_count": 13,
   "metadata": {},
   "outputs": [
    {
     "data": {
      "text/plain": [
       "<AxesSubplot:xlabel='PC2', ylabel='PC3'>"
      ]
     },
     "execution_count": 13,
     "metadata": {},
     "output_type": "execute_result"
    },
    {
     "data": {
      "image/png": "[encoded data removed]",
      "text/plain": [
       "<Figure size 432x288 with 1 Axes>"
      ]
     },
     "metadata": {
      "needs_background": "light"
     },
     "output_type": "display_data"
    }
   ],
   "source": [
    "#PC2 E PC3\n",
    "ax = plt.subplot()\n",
    "ax.axhline(y=0, color='k', linewidth=1)\n",
    "ax.axvline(x=0, color='k', linewidth=1)\n",
    "ax.set(xlabel='PC2', ylabel='PC3')\n",
    "sns.scatterplot(x=T[:,1],y=T[:,2])"
   ]
  },
  {
   "cell_type": "markdown",
   "metadata": {},
   "source": [
    "Plot Loadings"
   ]
  },
  {
   "cell_type": "code",
   "execution_count": 14,
   "metadata": {},
   "outputs": [
    {
     "data": {
      "image/png": "[encoded data removed]",
      "text/plain": [
       "<Figure size 432x288 with 1 Axes>"
      ]
     },
     "metadata": {
      "needs_background": "light"
     },
     "output_type": "display_data"
    }
   ],
   "source": [
    "Loadings_N = P.shape[0]\n",
    "ax = plt.subplot()\n",
    "ax.axhline(y=0, color='k', linewidth=1)\n",
    "ax.axvline(x=0, color='k', linewidth=1)\n",
    "for i in range(Loadings_N):\n",
    "     plt.arrow(0, 0, P[i,0], P[i,1],color = 'r',alpha = 0.5) \n",
    "     plt.text(P[i,0], P[i,1], X_after.columns[i], color = 'g', ha = 'center', va = 'center')#aggiungo il nome "
   ]
  },
  {
   "cell_type": "markdown",
   "metadata": {},
   "source": [
    "### da guardare https://cmdlinetips.com/2018/03/pca-example-in-python-with-scikit-learn/\n",
    "###                https://github.com/ostwalprasad/ostwalprasad.github.io/blob/master/jupyterbooks/2019-01-20-PCA%20using%20python.ipynb"
   ]
  },
  {
   "cell_type": "code",
   "execution_count": null,
   "metadata": {},
   "outputs": [],
   "source": []
  },
  {
   "cell_type": "code",
   "execution_count": null,
   "metadata": {},
   "outputs": [],
   "source": []
  }
 ],
 "metadata": {
  "kernelspec": {
   "display_name": "Python 3",
   "language": "python",
   "name": "python3"
  },
  "language_info": {
   "codemirror_mode": {
    "name": "ipython",
    "version": 3
   },
   "file_extension": ".py",
   "mimetype": "text/x-python",
   "name": "python",
   "nbconvert_exporter": "python",
   "pygments_lexer": "ipython3",
   "version": "3.7.1"
  }
 },
 "nbformat": 4,
 "nbformat_minor": 4
}
