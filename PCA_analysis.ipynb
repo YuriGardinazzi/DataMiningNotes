{
 "cells": [
  {
   "cell_type": "markdown",
   "metadata": {},
   "source": [
    "## ANALISI PCA CON PREPROCESSING E SVD"
   ]
  },
  {
   "cell_type": "code",
   "execution_count": 2,
   "metadata": {},
   "outputs": [],
   "source": [
    "import pandas as pd\n",
    "import pandas as pd\n",
    "import numpy as np\n",
    "import matplotlib.pyplot as plt\n",
    "from sklearn import datasets\n",
    "import plotly.express as px\n",
    "import seaborn as sns"
   ]
  },
  {
   "cell_type": "code",
   "execution_count": 3,
   "metadata": {},
   "outputs": [],
   "source": [
    "df=pd.read_excel('olive_oil.xlsx')\n",
    "#sostituisco il nome della prima colonna con \"Class\"\n",
    "df.rename(columns={'Unnamed: 0':'Class'}, inplace=True )\n",
    "#rimuovo gli spazi dai nomi \n",
    "df.rename(columns=lambda x: x.strip(), inplace=True)\n",
    "\n",
    "labels = labels = list(df['Class'].unique())"
   ]
  },
  {
   "cell_type": "code",
   "execution_count": 160,
   "metadata": {},
   "outputs": [
    {
     "name": "stdout",
     "output_type": "stream",
     "text": [
      "382, 7\n"
     ]
    },
    {
     "data": {
      "text/html": [
       "<div>\n",
       "<style scoped>\n",
       "    .dataframe tbody tr th:only-of-type {\n",
       "        vertical-align: middle;\n",
       "    }\n",
       "\n",
       "    .dataframe tbody tr th {\n",
       "        vertical-align: top;\n",
       "    }\n",
       "\n",
       "    .dataframe thead th {\n",
       "        text-align: right;\n",
       "    }\n",
       "</style>\n",
       "<table border=\"1\" class=\"dataframe\">\n",
       "  <thead>\n",
       "    <tr style=\"text-align: right;\">\n",
       "      <th></th>\n",
       "      <th>palmitico</th>\n",
       "      <th>palmitoleico</th>\n",
       "      <th>stearico</th>\n",
       "      <th>oleico</th>\n",
       "      <th>linoleico</th>\n",
       "      <th>eicosanoico</th>\n",
       "      <th>linolenico</th>\n",
       "    </tr>\n",
       "  </thead>\n",
       "  <tbody>\n",
       "    <tr>\n",
       "      <th>0</th>\n",
       "      <td>10.750000</td>\n",
       "      <td>0.75</td>\n",
       "      <td>2.26</td>\n",
       "      <td>78.230011</td>\n",
       "      <td>6.72</td>\n",
       "      <td>0.36</td>\n",
       "      <td>0.60</td>\n",
       "    </tr>\n",
       "    <tr>\n",
       "      <th>1</th>\n",
       "      <td>10.880000</td>\n",
       "      <td>0.73</td>\n",
       "      <td>2.24</td>\n",
       "      <td>77.089996</td>\n",
       "      <td>7.81</td>\n",
       "      <td>0.31</td>\n",
       "      <td>0.61</td>\n",
       "    </tr>\n",
       "    <tr>\n",
       "      <th>2</th>\n",
       "      <td>9.109999</td>\n",
       "      <td>0.54</td>\n",
       "      <td>2.46</td>\n",
       "      <td>81.129997</td>\n",
       "      <td>5.49</td>\n",
       "      <td>0.31</td>\n",
       "      <td>0.63</td>\n",
       "    </tr>\n",
       "    <tr>\n",
       "      <th>3</th>\n",
       "      <td>9.660000</td>\n",
       "      <td>0.57</td>\n",
       "      <td>2.40</td>\n",
       "      <td>79.519997</td>\n",
       "      <td>6.19</td>\n",
       "      <td>0.50</td>\n",
       "      <td>0.78</td>\n",
       "    </tr>\n",
       "    <tr>\n",
       "      <th>4</th>\n",
       "      <td>10.510000</td>\n",
       "      <td>0.67</td>\n",
       "      <td>2.59</td>\n",
       "      <td>77.709999</td>\n",
       "      <td>6.72</td>\n",
       "      <td>0.50</td>\n",
       "      <td>0.80</td>\n",
       "    </tr>\n",
       "  </tbody>\n",
       "</table>\n",
       "</div>"
      ],
      "text/plain": [
       "   palmitico  palmitoleico  stearico     oleico  linoleico  eicosanoico  \\\n",
       "0  10.750000          0.75      2.26  78.230011       6.72         0.36   \n",
       "1  10.880000          0.73      2.24  77.089996       7.81         0.31   \n",
       "2   9.109999          0.54      2.46  81.129997       5.49         0.31   \n",
       "3   9.660000          0.57      2.40  79.519997       6.19         0.50   \n",
       "4  10.510000          0.67      2.59  77.709999       6.72         0.50   \n",
       "\n",
       "   linolenico  \n",
       "0        0.60  \n",
       "1        0.61  \n",
       "2        0.63  \n",
       "3        0.78  \n",
       "4        0.80  "
      ]
     },
     "execution_count": 160,
     "metadata": {},
     "output_type": "execute_result"
    }
   ],
   "source": [
    "#Rimuovo la prima riga contentente solo Stringhe, creando così la matrice dei dati X\n",
    "X = df.drop('Class', axis=1)\n",
    "n,m = X.shape\n",
    "print(f\"{n}, {m}\")\n",
    "X.head()"
   ]
  },
  {
   "cell_type": "markdown",
   "metadata": {},
   "source": [
    "## Preprocessing - Autoscaling"
   ]
  },
  {
   "cell_type": "code",
   "execution_count": 195,
   "metadata": {},
   "outputs": [
    {
     "data": {
      "text/html": [
       "<div>\n",
       "<style scoped>\n",
       "    .dataframe tbody tr th:only-of-type {\n",
       "        vertical-align: middle;\n",
       "    }\n",
       "\n",
       "    .dataframe tbody tr th {\n",
       "        vertical-align: top;\n",
       "    }\n",
       "\n",
       "    .dataframe thead th {\n",
       "        text-align: right;\n",
       "    }\n",
       "</style>\n",
       "<table border=\"1\" class=\"dataframe\">\n",
       "  <thead>\n",
       "    <tr style=\"text-align: right;\">\n",
       "      <th></th>\n",
       "      <th>palmitico</th>\n",
       "      <th>palmitoleico</th>\n",
       "      <th>stearico</th>\n",
       "      <th>oleico</th>\n",
       "      <th>linoleico</th>\n",
       "      <th>eicosanoico</th>\n",
       "      <th>linolenico</th>\n",
       "    </tr>\n",
       "  </thead>\n",
       "  <tbody>\n",
       "    <tr>\n",
       "      <th>0</th>\n",
       "      <td>-0.967736</td>\n",
       "      <td>-1.046550</td>\n",
       "      <td>0.166397</td>\n",
       "      <td>1.054802</td>\n",
       "      <td>-1.149469</td>\n",
       "      <td>0.427719</td>\n",
       "      <td>0.353491</td>\n",
       "    </tr>\n",
       "    <tr>\n",
       "      <th>1</th>\n",
       "      <td>-0.896904</td>\n",
       "      <td>-1.080687</td>\n",
       "      <td>0.107213</td>\n",
       "      <td>0.816074</td>\n",
       "      <td>-0.718221</td>\n",
       "      <td>0.064310</td>\n",
       "      <td>0.396468</td>\n",
       "    </tr>\n",
       "    <tr>\n",
       "      <th>2</th>\n",
       "      <td>-1.861303</td>\n",
       "      <td>-1.404992</td>\n",
       "      <td>0.758238</td>\n",
       "      <td>1.662081</td>\n",
       "      <td>-1.636106</td>\n",
       "      <td>0.064310</td>\n",
       "      <td>0.482422</td>\n",
       "    </tr>\n",
       "    <tr>\n",
       "      <th>3</th>\n",
       "      <td>-1.561631</td>\n",
       "      <td>-1.353786</td>\n",
       "      <td>0.580686</td>\n",
       "      <td>1.324935</td>\n",
       "      <td>-1.359158</td>\n",
       "      <td>1.445265</td>\n",
       "      <td>1.127076</td>\n",
       "    </tr>\n",
       "    <tr>\n",
       "      <th>4</th>\n",
       "      <td>-1.098502</td>\n",
       "      <td>-1.183099</td>\n",
       "      <td>1.142935</td>\n",
       "      <td>0.945908</td>\n",
       "      <td>-1.149469</td>\n",
       "      <td>1.445265</td>\n",
       "      <td>1.213029</td>\n",
       "    </tr>\n",
       "  </tbody>\n",
       "</table>\n",
       "</div>"
      ],
      "text/plain": [
       "   palmitico  palmitoleico  stearico    oleico  linoleico  eicosanoico  \\\n",
       "0  -0.967736     -1.046550  0.166397  1.054802  -1.149469     0.427719   \n",
       "1  -0.896904     -1.080687  0.107213  0.816074  -0.718221     0.064310   \n",
       "2  -1.861303     -1.404992  0.758238  1.662081  -1.636106     0.064310   \n",
       "3  -1.561631     -1.353786  0.580686  1.324935  -1.359158     1.445265   \n",
       "4  -1.098502     -1.183099  1.142935  0.945908  -1.149469     1.445265   \n",
       "\n",
       "   linolenico  \n",
       "0    0.353491  \n",
       "1    0.396468  \n",
       "2    0.482422  \n",
       "3    1.127076  \n",
       "4    1.213029  "
      ]
     },
     "execution_count": 195,
     "metadata": {},
     "output_type": "execute_result"
    }
   ],
   "source": [
    "X_after = (X - X.mean())/X.std()\n",
    "X_after.head()"
   ]
  },
  {
   "cell_type": "markdown",
   "metadata": {},
   "source": [
    "## SVD"
   ]
  },
  {
   "cell_type": "code",
   "execution_count": 202,
   "metadata": {},
   "outputs": [
    {
     "name": "stdout",
     "output_type": "stream",
     "text": [
      "X (382, 7) = U (382, 7) S (7, 7) V (7, 7)\n"
     ]
    }
   ],
   "source": [
    "U,s,Vt = np.linalg.svd(X_after,full_matrices=False,compute_uv=True)\n",
    "V = Vt.T\n",
    "S = np.diag(S)\n",
    "print(f\"X {X.shape} = U {U.shape} S {S.shape} V {V.shape}\")"
   ]
  },
  {
   "cell_type": "code",
   "execution_count": 203,
   "metadata": {},
   "outputs": [],
   "source": [
    "X_svd = np.dot(U, np.diag(S)) "
   ]
  },
  {
   "cell_type": "code",
   "execution_count": 205,
   "metadata": {},
   "outputs": [
    {
     "name": "stdout",
     "output_type": "stream",
     "text": [
      "-1.0806874163105427 -205.79602932140665\n"
     ]
    }
   ],
   "source": [
    "T = np.matmul(U,S) #Scores \n",
    "#T = U*S\n",
    "P = S   #Loadings\n",
    "\n",
    "Data = np.dot(T,P.T)\n",
    "E = np.subtract(X,Data)\n",
    "#X_pca = np.dot(T,P.T)\n",
    "Eigen_pca = np.power(S,2)/(n-1)\n",
    "#print(Eigen_pca)\n",
    "print(X.iat[1,1], Data[1,1])"
   ]
  },
  {
   "cell_type": "code",
   "execution_count": 207,
   "metadata": {},
   "outputs": [
    {
     "data": {
      "text/plain": [
       "<AxesSubplot:>"
      ]
     },
     "execution_count": 207,
     "metadata": {},
     "output_type": "execute_result"
    },
    {
     "data": {
      "image/png": "[encoded data removed]",
      "text/plain": [
       "<Figure size 432x288 with 1 Axes>"
      ]
     },
     "metadata": {
      "needs_background": "light"
     },
     "output_type": "display_data"
    }
   ],
   "source": [
    "var_explained = np.round(s**2/np.sum(s**2), decimals=3)\n",
    "sns.barplot(x=list(range(1,len(var_explained)+1)),\n",
    "            y=var_explained, color=\"limegreen\")"
   ]
  },
  {
   "cell_type": "markdown",
   "metadata": {},
   "source": [
    "Calcolo delle componenti principali"
   ]
  },
  {
   "cell_type": "code",
   "execution_count": 208,
   "metadata": {},
   "outputs": [
    {
     "data": {
      "text/plain": [
       "(382, 3)"
      ]
     },
     "execution_count": 208,
     "metadata": {},
     "output_type": "execute_result"
    }
   ],
   "source": [
    "k = 3 #numero di componenti principali da calcolare\n",
    "US_k = U[:, 0:k].dot(S[0:k, 0:k])\n",
    "US_k.shape"
   ]
  },
  {
   "cell_type": "code",
   "execution_count": 212,
   "metadata": {},
   "outputs": [
    {
     "data": {
      "text/plain": [
       "<AxesSubplot:>"
      ]
     },
     "execution_count": 212,
     "metadata": {},
     "output_type": "execute_result"
    },
    {
     "data": {
      "image/png": "[encoded data removed]",
      "text/plain": [
       "<Figure size 432x288 with 1 Axes>"
      ]
     },
     "metadata": {
      "needs_background": "light"
     },
     "output_type": "display_data"
    }
   ],
   "source": [
    "#PC1  e PC2\n",
    "#sns.scatterplot(y=US_k[:,0], x=US_k[:,1])\n",
    "sns.scatterplot(x=T[:,0], y=T[:,1])"
   ]
  },
  {
   "cell_type": "code",
   "execution_count": 210,
   "metadata": {},
   "outputs": [
    {
     "data": {
      "text/plain": [
       "<AxesSubplot:>"
      ]
     },
     "execution_count": 210,
     "metadata": {},
     "output_type": "execute_result"
    },
    {
     "data": {
      "image/png": "[encoded data removed]",
      "text/plain": [
       "<Figure size 432x288 with 1 Axes>"
      ]
     },
     "metadata": {
      "needs_background": "light"
     },
     "output_type": "display_data"
    }
   ],
   "source": [
    "#PC2 E PC3\n",
    "sns.scatterplot(x=US_k[:,1],y=US_k[:,2])"
   ]
  },
  {
   "cell_type": "code",
   "execution_count": null,
   "metadata": {},
   "outputs": [],
   "source": []
  },
  {
   "cell_type": "markdown",
   "metadata": {},
   "source": [
    "### da guardare https://cmdlinetips.com/2018/03/pca-example-in-python-with-scikit-learn/"
   ]
  },
  {
   "cell_type": "code",
   "execution_count": null,
   "metadata": {},
   "outputs": [],
   "source": []
  }
 ],
 "metadata": {
  "kernelspec": {
   "display_name": "Python 3",
   "language": "python",
   "name": "python3"
  },
  "language_info": {
   "codemirror_mode": {
    "name": "ipython",
    "version": 3
   },
   "file_extension": ".py",
   "mimetype": "text/x-python",
   "name": "python",
   "nbconvert_exporter": "python",
   "pygments_lexer": "ipython3",
   "version": "3.7.1"
  }
 },
 "nbformat": 4,
 "nbformat_minor": 4
}
