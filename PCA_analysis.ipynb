{
 "cells": [
  {
   "cell_type": "markdown",
   "metadata": {},
   "source": [
    "## ANALISI PCA CON PREPROCESSING E SVD"
   ]
  },
  {
   "cell_type": "code",
   "execution_count": 1,
   "metadata": {},
   "outputs": [],
   "source": [
    "import pandas as pd\n",
    "import pandas as pd\n",
    "import numpy as np\n",
    "import matplotlib.pyplot as plt\n",
    "from sklearn import datasets\n",
    "import plotly.express as px\n",
    "import seaborn as sns"
   ]
  },
  {
   "cell_type": "code",
   "execution_count": 4,
   "metadata": {},
   "outputs": [
    {
     "data": {
      "text/html": [
       "<div>\n",
       "<style scoped>\n",
       "    .dataframe tbody tr th:only-of-type {\n",
       "        vertical-align: middle;\n",
       "    }\n",
       "\n",
       "    .dataframe tbody tr th {\n",
       "        vertical-align: top;\n",
       "    }\n",
       "\n",
       "    .dataframe thead th {\n",
       "        text-align: right;\n",
       "    }\n",
       "</style>\n",
       "<table border=\"1\" class=\"dataframe\">\n",
       "  <thead>\n",
       "    <tr style=\"text-align: right;\">\n",
       "      <th></th>\n",
       "      <th>Class</th>\n",
       "      <th>palmitico</th>\n",
       "      <th>palmitoleico</th>\n",
       "      <th>stearico</th>\n",
       "      <th>oleico</th>\n",
       "      <th>linoleico</th>\n",
       "      <th>eicosanoico</th>\n",
       "      <th>linolenico</th>\n",
       "    </tr>\n",
       "  </thead>\n",
       "  <tbody>\n",
       "    <tr>\n",
       "      <th>0</th>\n",
       "      <td>NA</td>\n",
       "      <td>10.750000</td>\n",
       "      <td>0.75</td>\n",
       "      <td>2.26</td>\n",
       "      <td>78.230011</td>\n",
       "      <td>6.72</td>\n",
       "      <td>0.36</td>\n",
       "      <td>0.60</td>\n",
       "    </tr>\n",
       "    <tr>\n",
       "      <th>1</th>\n",
       "      <td>NA</td>\n",
       "      <td>10.880000</td>\n",
       "      <td>0.73</td>\n",
       "      <td>2.24</td>\n",
       "      <td>77.089996</td>\n",
       "      <td>7.81</td>\n",
       "      <td>0.31</td>\n",
       "      <td>0.61</td>\n",
       "    </tr>\n",
       "    <tr>\n",
       "      <th>2</th>\n",
       "      <td>NA</td>\n",
       "      <td>9.109999</td>\n",
       "      <td>0.54</td>\n",
       "      <td>2.46</td>\n",
       "      <td>81.129997</td>\n",
       "      <td>5.49</td>\n",
       "      <td>0.31</td>\n",
       "      <td>0.63</td>\n",
       "    </tr>\n",
       "    <tr>\n",
       "      <th>3</th>\n",
       "      <td>NA</td>\n",
       "      <td>9.660000</td>\n",
       "      <td>0.57</td>\n",
       "      <td>2.40</td>\n",
       "      <td>79.519997</td>\n",
       "      <td>6.19</td>\n",
       "      <td>0.50</td>\n",
       "      <td>0.78</td>\n",
       "    </tr>\n",
       "    <tr>\n",
       "      <th>4</th>\n",
       "      <td>NA</td>\n",
       "      <td>10.510000</td>\n",
       "      <td>0.67</td>\n",
       "      <td>2.59</td>\n",
       "      <td>77.709999</td>\n",
       "      <td>6.72</td>\n",
       "      <td>0.50</td>\n",
       "      <td>0.80</td>\n",
       "    </tr>\n",
       "  </tbody>\n",
       "</table>\n",
       "</div>"
      ],
      "text/plain": [
       "  Class  palmitico  palmitoleico  stearico     oleico  linoleico  eicosanoico  \\\n",
       "0   NA   10.750000          0.75      2.26  78.230011       6.72         0.36   \n",
       "1   NA   10.880000          0.73      2.24  77.089996       7.81         0.31   \n",
       "2   NA    9.109999          0.54      2.46  81.129997       5.49         0.31   \n",
       "3   NA    9.660000          0.57      2.40  79.519997       6.19         0.50   \n",
       "4   NA   10.510000          0.67      2.59  77.709999       6.72         0.50   \n",
       "\n",
       "   linolenico  \n",
       "0        0.60  \n",
       "1        0.61  \n",
       "2        0.63  \n",
       "3        0.78  \n",
       "4        0.80  "
      ]
     },
     "execution_count": 4,
     "metadata": {},
     "output_type": "execute_result"
    }
   ],
   "source": [
    "df=pd.read_excel('olive_oil.xlsx')\n",
    "df.rename(columns={'Unnamed: 0':'Class'}, inplace=True )\n",
    "df.rename(columns=lambda x: x.strip(), inplace=True)\n",
    "df.head()"
   ]
  },
  {
   "cell_type": "code",
   "execution_count": 5,
   "metadata": {},
   "outputs": [
    {
     "data": {
      "text/plain": [
       "<AxesSubplot:>"
      ]
     },
     "execution_count": 5,
     "metadata": {},
     "output_type": "execute_result"
    },
    {
     "data": {
      "image/png": "[encoded data removed]",
      "text/plain": [
       "<Figure size 432x288 with 1 Axes>"
      ]
     },
     "metadata": {
      "needs_background": "light"
     },
     "output_type": "display_data"
    }
   ],
   "source": [
    "sns.boxplot(data=df)"
   ]
  },
  {
   "cell_type": "code",
   "execution_count": null,
   "metadata": {},
   "outputs": [],
   "source": []
  },
  {
   "cell_type": "code",
   "execution_count": 131,
   "metadata": {},
   "outputs": [
    {
     "data": {
      "text/plain": [
       "<matplotlib.axes._subplots.AxesSubplot at 0x260fb7f2d68>"
      ]
     },
     "execution_count": 131,
     "metadata": {},
     "output_type": "execute_result"
    },
    {
     "data": {
      "image/png": "[encoded data removed]",
      "text/plain": [
       "<Figure size 432x288 with 1 Axes>"
      ]
     },
     "metadata": {
      "needs_background": "light"
     },
     "output_type": "display_data"
    }
   ],
   "source": [
    "pd.plotting.parallel_coordinates(df,'Class', color=('#2776f5','#f52f1d','#fafa19','#11bd08','#21fbff'))"
   ]
  },
  {
   "cell_type": "code",
   "execution_count": 75,
   "metadata": {},
   "outputs": [
    {
     "data": {
      "text/plain": [
       "Index(['palmitico', 'palmitoleico', 'stearico', 'oleico', 'linoleico',\n",
       "       'eicosanoico', 'linolenico'],\n",
       "      dtype='object')"
      ]
     },
     "execution_count": 75,
     "metadata": {},
     "output_type": "execute_result"
    }
   ],
   "source": [
    "\n"
   ]
  },
  {
   "cell_type": "code",
   "execution_count": 137,
   "metadata": {},
   "outputs": [
    {
     "data": {
      "text/plain": [
       "['NA ', 'SA ', 'U  ', 'EL ', 'WL ']"
      ]
     },
     "execution_count": 137,
     "metadata": {},
     "output_type": "execute_result"
    }
   ],
   "source": [
    "labels = list(df['Class'].unique())\n",
    "labels"
   ]
  },
  {
   "cell_type": "code",
   "execution_count": null,
   "metadata": {},
   "outputs": [],
   "source": []
  },
  {
   "cell_type": "code",
   "execution_count": null,
   "metadata": {},
   "outputs": [],
   "source": []
  },
  {
   "cell_type": "code",
   "execution_count": null,
   "metadata": {},
   "outputs": [],
   "source": []
  }
 ],
 "metadata": {
  "kernelspec": {
   "display_name": "Python 3",
   "language": "python",
   "name": "python3"
  },
  "language_info": {
   "codemirror_mode": {
    "name": "ipython",
    "version": 3
   },
   "file_extension": ".py",
   "mimetype": "text/x-python",
   "name": "python",
   "nbconvert_exporter": "python",
   "pygments_lexer": "ipython3",
   "version": "3.7.4"
  }
 },
 "nbformat": 4,
 "nbformat_minor": 4
}
